{
 "cells": [
  {
   "cell_type": "markdown",
   "metadata": {
    "slideshow": {
     "slide_type": "slide"
    }
   },
   "source": [
    "# Pandas Basics\n",
    "\n",
    "pandas contains data structures and data maniuplation tools that make data cleaning and data analysis within Python possible.\n",
    "\n",
    "Pandas is used in tandem with...\n",
    " - numerical computing tools such as NumPy and SciPy\n",
    " - analytical libraries such as statsmodels and scikitlearn"
   ]
  },
  {
   "cell_type": "markdown",
   "metadata": {
    "slideshow": {
     "slide_type": "slide"
    }
   },
   "source": [
    "## Pandas Data Structures\n",
    "The key data structures are Series and DataFrames.\n",
    "Let's build a few examples of these data structures and get familiar with what makes them unique."
   ]
  },
  {
   "cell_type": "markdown",
   "metadata": {
    "slideshow": {
     "slide_type": "slide"
    }
   },
   "source": [
    "## Series\n",
    "A series is a one-dimensional array-like object, which contains a sequence of values with an associated index.  The simplest way to create a series is to create one from a list:"
   ]
  },
  {
   "cell_type": "code",
   "execution_count": 6,
   "metadata": {
    "slideshow": {
     "slide_type": "subslide"
    }
   },
   "outputs": [
    {
     "data": {
      "text/plain": [
       "0    89\n",
       "1    12\n",
       "2    -4\n",
       "3    13\n",
       "dtype: int64"
      ]
     },
     "execution_count": 6,
     "metadata": {},
     "output_type": "execute_result"
    }
   ],
   "source": [
    "import pandas as pd\n",
    "\n",
    "ser = pd.Series([89, 12, -4, 13])\n",
    "ser"
   ]
  },
  {
   "cell_type": "code",
   "execution_count": 24,
   "metadata": {
    "slideshow": {
     "slide_type": "subslide"
    }
   },
   "outputs": [
    {
     "data": {
      "text/plain": [
       "array([89, 12, -4, 13])"
      ]
     },
     "execution_count": 24,
     "metadata": {},
     "output_type": "execute_result"
    }
   ],
   "source": [
    "# The values of a Series object\n",
    "ser.values"
   ]
  },
  {
   "cell_type": "code",
   "execution_count": 25,
   "metadata": {
    "slideshow": {
     "slide_type": "subslide"
    }
   },
   "outputs": [
    {
     "data": {
      "text/plain": [
       "RangeIndex(start=0, stop=4, step=1)"
      ]
     },
     "execution_count": 25,
     "metadata": {},
     "output_type": "execute_result"
    }
   ],
   "source": [
    "# The index of a Series object\n",
    "ser.index"
   ]
  },
  {
   "cell_type": "code",
   "execution_count": 7,
   "metadata": {
    "slideshow": {
     "slide_type": "subslide"
    }
   },
   "outputs": [
    {
     "data": {
      "text/plain": [
       "0    4.489613e+38\n",
       "1    1.627548e+05\n",
       "2    1.831564e-02\n",
       "3    4.424134e+05\n",
       "dtype: float64"
      ]
     },
     "execution_count": 7,
     "metadata": {},
     "output_type": "execute_result"
    }
   ],
   "source": [
    "# You can use NumPy functions on Series objects\n",
    "\n",
    "#return all the values greater than 10\n",
    "ser[]\n",
    "#multiply all values in series by scalar 2\n",
    "\n",
    "#calculate the exponential of each value in our Series object\n"
   ]
  },
  {
   "cell_type": "code",
   "execution_count": 13,
   "metadata": {
    "slideshow": {
     "slide_type": "subslide"
    }
   },
   "outputs": [],
   "source": [
    "# Another example of a Series object:\n",
    "people = ['Eyerasulem', 'Mayuri', 'Rosy', 'Moran', 'Jingru', 'Marnie']\n",
    "\n",
    "#Convert the list 'people' to a Series object:\n",
    "obj = pd.Series()\n",
    "\n",
    "# verify the class of our Series object\n"
   ]
  },
  {
   "cell_type": "markdown",
   "metadata": {
    "slideshow": {
     "slide_type": "subslide"
    }
   },
   "source": [
    "### Understanding the Series structure\n",
    "\n",
    "Components of a Series object:\n",
    " - one dimensional array containing a sequence of objects\n",
    " - 'index': an associated array of data labels (default and user defined)"
   ]
  },
  {
   "cell_type": "code",
   "execution_count": 15,
   "metadata": {
    "slideshow": {
     "slide_type": "subslide"
    }
   },
   "outputs": [
    {
     "name": "stdout",
     "output_type": "stream",
     "text": [
      "0    Eyerasulem\n",
      "1        Mayuri\n",
      "2          Rosy\n",
      "3         Moran\n",
      "4        Jingru\n",
      "5        Marnie\n",
      "dtype: object\n"
     ]
    },
    {
     "data": {
      "text/plain": [
       "2      Rosy\n",
       "3     Moran\n",
       "4    Jingru\n",
       "dtype: object"
      ]
     },
     "execution_count": 15,
     "metadata": {},
     "output_type": "execute_result"
    }
   ],
   "source": [
    "# Notice the components of our Series object\n",
    "print(obj)\n",
    "# Slicing a Series object is much like slicing a list\n",
    "# Try and return items with index values 2,3,4\n",
    "obj[]"
   ]
  },
  {
   "cell_type": "code",
   "execution_count": null,
   "metadata": {
    "slideshow": {
     "slide_type": "subslide"
    }
   },
   "outputs": [],
   "source": [
    "# As we do with lists, use the index to access and change a value in the Series object\n",
    "print(obj)\n",
    "\n",
    "# Uncomment the line below, and add code to change 'Rosy' to 'James'\n",
    "# obj[]\n",
    "print(obj)"
   ]
  },
  {
   "cell_type": "code",
   "execution_count": 17,
   "metadata": {
    "slideshow": {
     "slide_type": "subslide"
    }
   },
   "outputs": [
    {
     "data": {
      "text/plain": [
       "0    Eyerasulem\n",
       "1        Mayuri\n",
       "1          Rosy\n",
       "0         Moran\n",
       "1        Jingru\n",
       "0        Marnie\n",
       "dtype: object"
      ]
     },
     "execution_count": 17,
     "metadata": {},
     "output_type": "execute_result"
    }
   ],
   "source": [
    "# The index for a Series object can be manually assigned:\n",
    "obj2 = pd.Series(people, index=[0,1,0,0,1,1])\n",
    "obj2"
   ]
  },
  {
   "cell_type": "code",
   "execution_count": 23,
   "metadata": {
    "slideshow": {
     "slide_type": "subslide"
    }
   },
   "outputs": [
    {
     "name": "stdout",
     "output_type": "stream",
     "text": [
      "0    Eyerasulem\n",
      "0         Moran\n",
      "0        Marnie\n",
      "dtype: object\n"
     ]
    }
   ],
   "source": [
    "# Make use of indices for obj2 and print out persons with index value of '0'\n",
    "obj2\n",
    "ind = \n",
    "print(obj2[ind])"
   ]
  },
  {
   "cell_type": "code",
   "execution_count": 21,
   "metadata": {
    "slideshow": {
     "slide_type": "subslide"
    }
   },
   "outputs": [
    {
     "data": {
      "text/plain": [
       "Int64Index([0, 1, 1, 0, 1, 0], dtype='int64')"
      ]
     },
     "execution_count": 21,
     "metadata": {},
     "output_type": "execute_result"
    }
   ],
   "source": [
    "# View the components of a Series object\n",
    "#obj2.values\n",
    "#obj2.index"
   ]
  },
  {
   "cell_type": "markdown",
   "metadata": {
    "slideshow": {
     "slide_type": "subslide"
    }
   },
   "source": [
    "### Series objects are like Dictionary objects\n",
    "Let's try some exercises to compare similiarities between dictionaries and Series objects..."
   ]
  },
  {
   "cell_type": "code",
   "execution_count": 28,
   "metadata": {
    "slideshow": {
     "slide_type": "subslide"
    }
   },
   "outputs": [
    {
     "data": {
      "text/plain": [
       "eyerasulum       [data mining, stats2, parallel, project]\n",
       "jingru           [stats2, data mining, parallel, project]\n",
       "moran            [stats2, data mining, parallel, project]\n",
       "rosy                         [data mining, stats2, noSQL]\n",
       "sam           [stats2, internship, data mining, parallel]\n",
       "dtype: object"
      ]
     },
     "execution_count": 28,
     "metadata": {},
     "output_type": "execute_result"
    }
   ],
   "source": [
    "# The Series index can function like keys in a dictionary:\n",
    "# Let's start with another data structure we're all familiar with: the dictionary\n",
    "dataSci = {\n",
    "    'eyerasulum':['data mining', 'stats2', 'parallel', 'project'],\n",
    "    'rosy':['data mining', 'stats2', 'noSQL'],\n",
    "    'sam':['stats2', 'internship', 'data mining', 'parallel'],\n",
    "    'moran':['stats2', 'data mining', 'parallel', 'project'],\n",
    "    'jingru':['stats2', 'data mining', 'parallel', 'project']\n",
    "}\n",
    "\n",
    "# Turn dataSci into a Series object\n",
    "obj3 = pd.Series(dataSci)\n",
    "obj3"
   ]
  },
  {
   "cell_type": "code",
   "execution_count": 36,
   "metadata": {
    "slideshow": {
     "slide_type": "subslide"
    }
   },
   "outputs": [
    {
     "name": "stdout",
     "output_type": "stream",
     "text": [
      "eyerasulum       [data mining, stats2, parallel, project]\n",
      "jingru           [stats2, data mining, parallel, project]\n",
      "moran            [stats2, data mining, parallel, project]\n",
      "rosy                         [data mining, stats2, noSQL]\n",
      "sam           [stats2, internship, data mining, parallel]\n",
      "dtype: object\n"
     ]
    },
    {
     "data": {
      "text/plain": [
       "['stats2', 'data mining', 'parallel', 'project']"
      ]
     },
     "execution_count": 36,
     "metadata": {},
     "output_type": "execute_result"
    }
   ],
   "source": [
    "# Notice that the keys from our dictionary are now the indices for our Series object\n",
    "print(obj3)\n",
    "\n",
    "# You can use the index values to check for an item in your object\n",
    "'sam' in obj3\n",
    "'adam' in obj3\n",
    "\n",
    "# Use indexing to display Moran's classes\n",
    "obj3"
   ]
  },
  {
   "cell_type": "markdown",
   "metadata": {
    "slideshow": {
     "slide_type": "slide"
    }
   },
   "source": [
    "## DataFrames\n",
    "Whereas the Series object was a one-dimensional data structure, the dataframe is an n-dimensional data structure.  Most visualize the dataframe as a 2-dimensional (tabular) object, but DataFrames with n-dimensions can be created."
   ]
  },
  {
   "cell_type": "markdown",
   "metadata": {
    "slideshow": {
     "slide_type": "subslide"
    }
   },
   "source": [
    "### Creating a DataFrame\n",
    "Think of the dataframe as a collection of pandas Series objects, where each column can contain a different data type.\n",
    "\n",
    "One of the easiest ways is to start with a dictionary of lists of equal length."
   ]
  },
  {
   "cell_type": "code",
   "execution_count": 1,
   "metadata": {
    "slideshow": {
     "slide_type": "subslide"
    }
   },
   "outputs": [
    {
     "data": {
      "text/html": [
       "<div>\n",
       "<table border=\"1\" class=\"dataframe\">\n",
       "  <thead>\n",
       "    <tr style=\"text-align: right;\">\n",
       "      <th></th>\n",
       "      <th>drug abuse</th>\n",
       "      <th>liquor laws</th>\n",
       "      <th>vandalism</th>\n",
       "      <th>years</th>\n",
       "    </tr>\n",
       "  </thead>\n",
       "  <tbody>\n",
       "    <tr>\n",
       "      <th>0</th>\n",
       "      <td>46</td>\n",
       "      <td>86</td>\n",
       "      <td>33</td>\n",
       "      <td>2007</td>\n",
       "    </tr>\n",
       "    <tr>\n",
       "      <th>1</th>\n",
       "      <td>60</td>\n",
       "      <td>81</td>\n",
       "      <td>69</td>\n",
       "      <td>2008</td>\n",
       "    </tr>\n",
       "    <tr>\n",
       "      <th>2</th>\n",
       "      <td>61</td>\n",
       "      <td>76</td>\n",
       "      <td>48</td>\n",
       "      <td>2009</td>\n",
       "    </tr>\n",
       "    <tr>\n",
       "      <th>3</th>\n",
       "      <td>67</td>\n",
       "      <td>86</td>\n",
       "      <td>44</td>\n",
       "      <td>2010</td>\n",
       "    </tr>\n",
       "  </tbody>\n",
       "</table>\n",
       "</div>"
      ],
      "text/plain": [
       "   drug abuse  liquor laws  vandalism years\n",
       "0          46           86         33  2007\n",
       "1          60           81         69  2008\n",
       "2          61           76         48  2009\n",
       "3          67           86         44  2010"
      ]
     },
     "execution_count": 1,
     "metadata": {},
     "output_type": "execute_result"
    }
   ],
   "source": [
    "import pandas as pd\n",
    "import numpy as np\n",
    "\n",
    "#Create a DataFrame from a dictionary\n",
    "crime = {\n",
    "    'years':['2007','2008','2009','2010'],\n",
    "    'vandalism':[33,69,48,44],\n",
    "    'drug abuse':[46,60,61,67],\n",
    "    'liquor laws':[86,81,76,86]\n",
    "}\n",
    "frame = pd.DataFrame(crime)\n",
    "frame\n",
    "# notice that the pandas dataframe lists the columns in alphabetical order,\n",
    "# which may not be how we want to present our data"
   ]
  },
  {
   "cell_type": "code",
   "execution_count": 4,
   "metadata": {
    "slideshow": {
     "slide_type": "subslide"
    }
   },
   "outputs": [
    {
     "data": {
      "text/plain": [
       "pandas.core.frame.DataFrame"
      ]
     },
     "execution_count": 4,
     "metadata": {},
     "output_type": "execute_result"
    }
   ],
   "source": [
    "# Ways to view the dataframe (and its parts)\n",
    "type(frame)\n",
    "\n",
    "#frame.head() #the default is 5\n",
    "#frame.head(7)  #change the default\n",
    "#frame.tail()\n",
    "\n",
    "#frame.values\n",
    "#frame.index\n",
    "#frame.columns"
   ]
  },
  {
   "cell_type": "code",
   "execution_count": 9,
   "metadata": {
    "slideshow": {
     "slide_type": "subslide"
    }
   },
   "outputs": [
    {
     "data": {
      "text/html": [
       "<div>\n",
       "<table border=\"1\" class=\"dataframe\">\n",
       "  <thead>\n",
       "    <tr style=\"text-align: right;\">\n",
       "      <th></th>\n",
       "      <th>drug abuse</th>\n",
       "      <th>liquor laws</th>\n",
       "      <th>vandalism</th>\n",
       "      <th>years</th>\n",
       "    </tr>\n",
       "  </thead>\n",
       "  <tbody>\n",
       "    <tr>\n",
       "      <th>0</th>\n",
       "      <td>46</td>\n",
       "      <td>86</td>\n",
       "      <td>33</td>\n",
       "      <td>2007</td>\n",
       "    </tr>\n",
       "    <tr>\n",
       "      <th>1</th>\n",
       "      <td>60</td>\n",
       "      <td>81</td>\n",
       "      <td>69</td>\n",
       "      <td>2008</td>\n",
       "    </tr>\n",
       "    <tr>\n",
       "      <th>2</th>\n",
       "      <td>61</td>\n",
       "      <td>76</td>\n",
       "      <td>48</td>\n",
       "      <td>2009</td>\n",
       "    </tr>\n",
       "    <tr>\n",
       "      <th>3</th>\n",
       "      <td>67</td>\n",
       "      <td>86</td>\n",
       "      <td>44</td>\n",
       "      <td>2010</td>\n",
       "    </tr>\n",
       "  </tbody>\n",
       "</table>\n",
       "</div>"
      ],
      "text/plain": [
       "   drug abuse  liquor laws  vandalism years\n",
       "0          46           86         33  2007\n",
       "1          60           81         69  2008\n",
       "2          61           76         48  2009\n",
       "3          67           86         44  2010"
      ]
     },
     "execution_count": 9,
     "metadata": {},
     "output_type": "execute_result"
    }
   ],
   "source": [
    "# Let's control how the columns are displayed in our dataframe\n",
    "# We don't like that 'years' is the last column.  How to modify?\n",
    "frame\n",
    "\n",
    "#frame = pd.DataFrame(crime, columns=['years','drug abuse','liquor laws','vandalism'])\n",
    "frame\n",
    "\n",
    "# try rearranging the columns by modifying the columns yourself:\n",
    "frameX = pd.DataFrame(data, columns=[])"
   ]
  },
  {
   "cell_type": "code",
   "execution_count": 11,
   "metadata": {
    "slideshow": {
     "slide_type": "subslide"
    }
   },
   "outputs": [
    {
     "data": {
      "text/plain": [
       "drug abuse       60\n",
       "liquor laws      81\n",
       "vandalism        69\n",
       "years          2008\n",
       "Name: 1, dtype: object"
      ]
     },
     "execution_count": 11,
     "metadata": {},
     "output_type": "execute_result"
    }
   ],
   "source": [
    "# slicing and dicing the DataFrame\n",
    "\n",
    "#Accessing by column\n",
    "#frame['years']\n",
    "#frame.years\n",
    "\n",
    "#Accessing by row -- how can we access the data for '2008'?\n",
    "frame.iloc[1]  ##remove"
   ]
  },
  {
   "cell_type": "code",
   "execution_count": 3,
   "metadata": {
    "slideshow": {
     "slide_type": "subslide"
    }
   },
   "outputs": [
    {
     "data": {
      "text/html": [
       "<div>\n",
       "<table border=\"1\" class=\"dataframe\">\n",
       "  <thead>\n",
       "    <tr style=\"text-align: right;\">\n",
       "      <th></th>\n",
       "      <th>years</th>\n",
       "      <th>drug abuse</th>\n",
       "      <th>liquor laws</th>\n",
       "      <th>vandalism</th>\n",
       "      <th>other</th>\n",
       "    </tr>\n",
       "  </thead>\n",
       "  <tbody>\n",
       "    <tr>\n",
       "      <th>a</th>\n",
       "      <td>2007</td>\n",
       "      <td>46</td>\n",
       "      <td>86</td>\n",
       "      <td>33</td>\n",
       "      <td>NaN</td>\n",
       "    </tr>\n",
       "    <tr>\n",
       "      <th>a</th>\n",
       "      <td>2008</td>\n",
       "      <td>60</td>\n",
       "      <td>81</td>\n",
       "      <td>69</td>\n",
       "      <td>NaN</td>\n",
       "    </tr>\n",
       "    <tr>\n",
       "      <th>b</th>\n",
       "      <td>2009</td>\n",
       "      <td>61</td>\n",
       "      <td>76</td>\n",
       "      <td>48</td>\n",
       "      <td>NaN</td>\n",
       "    </tr>\n",
       "    <tr>\n",
       "      <th>b</th>\n",
       "      <td>2010</td>\n",
       "      <td>67</td>\n",
       "      <td>86</td>\n",
       "      <td>44</td>\n",
       "      <td>NaN</td>\n",
       "    </tr>\n",
       "  </tbody>\n",
       "</table>\n",
       "</div>"
      ],
      "text/plain": [
       "  years  drug abuse  liquor laws  vandalism other\n",
       "a  2007          46           86         33   NaN\n",
       "a  2008          60           81         69   NaN\n",
       "b  2009          61           76         48   NaN\n",
       "b  2010          67           86         44   NaN"
      ]
     },
     "execution_count": 3,
     "metadata": {},
     "output_type": "execute_result"
    }
   ],
   "source": [
    "# What happens if we specify a column in our dataframe that \n",
    "# doesn't exist in our dictionary object?\n",
    "# We want to add a new column 'other'\n",
    "frame2 = pd.DataFrame(crime, columns=['years','drug abuse',\n",
    "                                      'liquor laws','vandalism', 'other'],\n",
    "                      index=['a','a','b','b'])\n",
    "frame2\n",
    "#Notice that indices do not have to be unique"
   ]
  },
  {
   "cell_type": "markdown",
   "metadata": {
    "slideshow": {
     "slide_type": "slide"
    }
   },
   "source": [
    "### NaN values\n",
    "As data scientists, we will have to deal with NaN (not a number) values.  How we deal with them (ignore them or replace them or other) is an important decision.\n",
    "\n",
    "Once we've decided how to deal with NaN values, how can we modify our Series or DataFrame objects accordingly?"
   ]
  },
  {
   "cell_type": "markdown",
   "metadata": {
    "slideshow": {
     "slide_type": "subslide"
    }
   },
   "source": [
    "An empty (a column of NaN) can be populated in several ways:\n",
    " - Passing a single value (a scalar, perhaps)\n",
    " - Passing a Series object (must be of same length as DataFrame)\n",
    " - Passing a List object (must be of same length as DataFrame)"
   ]
  },
  {
   "cell_type": "code",
   "execution_count": 37,
   "metadata": {
    "slideshow": {
     "slide_type": "subslide"
    }
   },
   "outputs": [
    {
     "data": {
      "text/html": [
       "<div>\n",
       "<table border=\"1\" class=\"dataframe\">\n",
       "  <thead>\n",
       "    <tr style=\"text-align: right;\">\n",
       "      <th></th>\n",
       "      <th>years</th>\n",
       "      <th>drug abuse</th>\n",
       "      <th>liquor laws</th>\n",
       "      <th>vandalism</th>\n",
       "      <th>other</th>\n",
       "    </tr>\n",
       "  </thead>\n",
       "  <tbody>\n",
       "    <tr>\n",
       "      <th>a</th>\n",
       "      <td>2007</td>\n",
       "      <td>46</td>\n",
       "      <td>86</td>\n",
       "      <td>33</td>\n",
       "      <td>not bad</td>\n",
       "    </tr>\n",
       "    <tr>\n",
       "      <th>a</th>\n",
       "      <td>2008</td>\n",
       "      <td>60</td>\n",
       "      <td>81</td>\n",
       "      <td>69</td>\n",
       "      <td>ok</td>\n",
       "    </tr>\n",
       "    <tr>\n",
       "      <th>b</th>\n",
       "      <td>2009</td>\n",
       "      <td>61</td>\n",
       "      <td>76</td>\n",
       "      <td>48</td>\n",
       "      <td>better</td>\n",
       "    </tr>\n",
       "    <tr>\n",
       "      <th>b</th>\n",
       "      <td>2010</td>\n",
       "      <td>67</td>\n",
       "      <td>86</td>\n",
       "      <td>44</td>\n",
       "      <td>worse</td>\n",
       "    </tr>\n",
       "  </tbody>\n",
       "</table>\n",
       "</div>"
      ],
      "text/plain": [
       "  years  drug abuse  liquor laws  vandalism    other\n",
       "a  2007          46           86         33  not bad\n",
       "a  2008          60           81         69       ok\n",
       "b  2009          61           76         48   better\n",
       "b  2010          67           86         44    worse"
      ]
     },
     "execution_count": 37,
     "metadata": {},
     "output_type": "execute_result"
    }
   ],
   "source": [
    "# We have our new column 'other' but it has no values.\n",
    "# Use code below to add the values: 'not bad','ok','better','worse'\n",
    "frame2.other=[]\n",
    "frame2"
   ]
  },
  {
   "cell_type": "code",
   "execution_count": 37,
   "metadata": {
    "slideshow": {
     "slide_type": "subslide"
    }
   },
   "outputs": [
    {
     "data": {
      "text/html": [
       "<div>\n",
       "<table border=\"1\" class=\"dataframe\">\n",
       "  <thead>\n",
       "    <tr style=\"text-align: right;\">\n",
       "      <th></th>\n",
       "      <th>bob</th>\n",
       "      <th>mary</th>\n",
       "      <th>john</th>\n",
       "      <th>chris</th>\n",
       "    </tr>\n",
       "  </thead>\n",
       "  <tbody>\n",
       "    <tr>\n",
       "      <th>0</th>\n",
       "      <td>NaN</td>\n",
       "      <td>2.0</td>\n",
       "      <td>NaN</td>\n",
       "      <td>0</td>\n",
       "    </tr>\n",
       "    <tr>\n",
       "      <th>1</th>\n",
       "      <td>3.0</td>\n",
       "      <td>4.0</td>\n",
       "      <td>NaN</td>\n",
       "      <td>1</td>\n",
       "    </tr>\n",
       "    <tr>\n",
       "      <th>2</th>\n",
       "      <td>NaN</td>\n",
       "      <td>NaN</td>\n",
       "      <td>NaN</td>\n",
       "      <td>5</td>\n",
       "    </tr>\n",
       "  </tbody>\n",
       "</table>\n",
       "</div>"
      ],
      "text/plain": [
       "   bob  mary  john  chris\n",
       "0  NaN   2.0   NaN      0\n",
       "1  3.0   4.0   NaN      1\n",
       "2  NaN   NaN   NaN      5"
      ]
     },
     "execution_count": 37,
     "metadata": {},
     "output_type": "execute_result"
    }
   ],
   "source": [
    "# Another way to deal with NaN values is to drop rows or columns\n",
    "df = pd.DataFrame([[np.nan, 2, np.nan, 0], [3, 4, np.nan, 1],[np.nan, np.nan, np.nan, 5]],\n",
    "                 columns=['bob','mary','john','chris'])\n",
    "df\n",
    "\n",
    "#using the sample code below, what is the difference between how='any' and how='all'\n",
    "#df.dropna(axis=1, how='any')\n",
    "#df.dropna(axis=1, how='all')\n",
    "\n",
    "# How can we remove any rows that have more than one NaN?\n",
    "df.dropna()"
   ]
  },
  {
   "cell_type": "markdown",
   "metadata": {
    "slideshow": {
     "slide_type": "slide"
    }
   },
   "source": [
    "### Adding/removing columns to a DataFrame\n",
    "\n",
    "Once you've created a DataFrame, you may need to add columns or delete columns.  Let's walk through some exercises to do this."
   ]
  },
  {
   "cell_type": "code",
   "execution_count": 38,
   "metadata": {
    "slideshow": {
     "slide_type": "subslide"
    }
   },
   "outputs": [
    {
     "data": {
      "text/html": [
       "<div>\n",
       "<table border=\"1\" class=\"dataframe\">\n",
       "  <thead>\n",
       "    <tr style=\"text-align: right;\">\n",
       "      <th></th>\n",
       "      <th>years</th>\n",
       "      <th>drug abuse</th>\n",
       "      <th>liquor laws</th>\n",
       "      <th>vandalism</th>\n",
       "      <th>avg</th>\n",
       "    </tr>\n",
       "  </thead>\n",
       "  <tbody>\n",
       "    <tr>\n",
       "      <th>0</th>\n",
       "      <td>2007</td>\n",
       "      <td>46</td>\n",
       "      <td>86</td>\n",
       "      <td>33</td>\n",
       "      <td>NaN</td>\n",
       "    </tr>\n",
       "    <tr>\n",
       "      <th>1</th>\n",
       "      <td>2008</td>\n",
       "      <td>60</td>\n",
       "      <td>81</td>\n",
       "      <td>69</td>\n",
       "      <td>NaN</td>\n",
       "    </tr>\n",
       "    <tr>\n",
       "      <th>2</th>\n",
       "      <td>2009</td>\n",
       "      <td>61</td>\n",
       "      <td>76</td>\n",
       "      <td>48</td>\n",
       "      <td>NaN</td>\n",
       "    </tr>\n",
       "    <tr>\n",
       "      <th>3</th>\n",
       "      <td>2010</td>\n",
       "      <td>67</td>\n",
       "      <td>86</td>\n",
       "      <td>44</td>\n",
       "      <td>NaN</td>\n",
       "    </tr>\n",
       "  </tbody>\n",
       "</table>\n",
       "</div>"
      ],
      "text/plain": [
       "  years  drug abuse  liquor laws  vandalism  avg\n",
       "0  2007          46           86         33  NaN\n",
       "1  2008          60           81         69  NaN\n",
       "2  2009          61           76         48  NaN\n",
       "3  2010          67           86         44  NaN"
      ]
     },
     "execution_count": 38,
     "metadata": {},
     "output_type": "execute_result"
    }
   ],
   "source": [
    "# Calculate the mean of previous columns\n",
    "frame = pd.DataFrame(crime, columns=['years','drug abuse','liquor laws','vandalism'])\n",
    "frame\n",
    "frame['avg']=frame.mean()\n",
    "frame"
   ]
  },
  {
   "cell_type": "code",
   "execution_count": 39,
   "metadata": {
    "slideshow": {
     "slide_type": "subslide"
    }
   },
   "outputs": [
    {
     "data": {
      "text/plain": [
       "years          5.018002e+14\n",
       "drug abuse     5.850000e+01\n",
       "liquor laws    8.225000e+01\n",
       "vandalism      4.850000e+01\n",
       "dtype: float64"
      ]
     },
     "execution_count": 39,
     "metadata": {},
     "output_type": "execute_result"
    }
   ],
   "source": [
    "# How would you calculate the average of the columns?\n",
    "frame = pd.DataFrame(crime, columns=['years','drug abuse','liquor laws','vandalism'])\n",
    "frame\n",
    "frame.mean()"
   ]
  },
  {
   "cell_type": "code",
   "execution_count": 42,
   "metadata": {
    "slideshow": {
     "slide_type": "subslide"
    }
   },
   "outputs": [
    {
     "data": {
      "text/html": [
       "<div>\n",
       "<table border=\"1\" class=\"dataframe\">\n",
       "  <thead>\n",
       "    <tr style=\"text-align: right;\">\n",
       "      <th></th>\n",
       "      <th>years</th>\n",
       "      <th>drug abuse</th>\n",
       "      <th>liquor laws</th>\n",
       "      <th>vandalism</th>\n",
       "      <th>other</th>\n",
       "      <th>drug&gt;70</th>\n",
       "    </tr>\n",
       "  </thead>\n",
       "  <tbody>\n",
       "    <tr>\n",
       "      <th>a</th>\n",
       "      <td>2007</td>\n",
       "      <td>46</td>\n",
       "      <td>86</td>\n",
       "      <td>33</td>\n",
       "      <td>not bad</td>\n",
       "      <td>False</td>\n",
       "    </tr>\n",
       "    <tr>\n",
       "      <th>a</th>\n",
       "      <td>2008</td>\n",
       "      <td>60</td>\n",
       "      <td>81</td>\n",
       "      <td>69</td>\n",
       "      <td>ok</td>\n",
       "      <td>False</td>\n",
       "    </tr>\n",
       "    <tr>\n",
       "      <th>b</th>\n",
       "      <td>2009</td>\n",
       "      <td>61</td>\n",
       "      <td>76</td>\n",
       "      <td>48</td>\n",
       "      <td>better</td>\n",
       "      <td>False</td>\n",
       "    </tr>\n",
       "    <tr>\n",
       "      <th>b</th>\n",
       "      <td>2010</td>\n",
       "      <td>67</td>\n",
       "      <td>86</td>\n",
       "      <td>44</td>\n",
       "      <td>worse</td>\n",
       "      <td>False</td>\n",
       "    </tr>\n",
       "  </tbody>\n",
       "</table>\n",
       "</div>"
      ],
      "text/plain": [
       "  years  drug abuse  liquor laws  vandalism    other drug>70\n",
       "a  2007          46           86         33  not bad   False\n",
       "a  2008          60           81         69       ok   False\n",
       "b  2009          61           76         48   better   False\n",
       "b  2010          67           86         44    worse   False"
      ]
     },
     "execution_count": 42,
     "metadata": {},
     "output_type": "execute_result"
    }
   ],
   "source": [
    "# We can add a new column with Boolean values based on evaluation of another column\n",
    "frame2['drug>70'] = frame2['drug abuse'] > 70\n",
    "frame2"
   ]
  },
  {
   "cell_type": "code",
   "execution_count": 44,
   "metadata": {
    "slideshow": {
     "slide_type": "subslide"
    }
   },
   "outputs": [
    {
     "data": {
      "text/html": [
       "<div>\n",
       "<table border=\"1\" class=\"dataframe\">\n",
       "  <thead>\n",
       "    <tr style=\"text-align: right;\">\n",
       "      <th></th>\n",
       "      <th>years</th>\n",
       "      <th>drug abuse</th>\n",
       "      <th>liquor laws</th>\n",
       "      <th>vandalism</th>\n",
       "      <th>drug&gt;70</th>\n",
       "    </tr>\n",
       "  </thead>\n",
       "  <tbody>\n",
       "    <tr>\n",
       "      <th>a</th>\n",
       "      <td>2007</td>\n",
       "      <td>46</td>\n",
       "      <td>86</td>\n",
       "      <td>33</td>\n",
       "      <td>False</td>\n",
       "    </tr>\n",
       "    <tr>\n",
       "      <th>a</th>\n",
       "      <td>2008</td>\n",
       "      <td>60</td>\n",
       "      <td>81</td>\n",
       "      <td>69</td>\n",
       "      <td>False</td>\n",
       "    </tr>\n",
       "    <tr>\n",
       "      <th>b</th>\n",
       "      <td>2009</td>\n",
       "      <td>61</td>\n",
       "      <td>76</td>\n",
       "      <td>48</td>\n",
       "      <td>False</td>\n",
       "    </tr>\n",
       "    <tr>\n",
       "      <th>b</th>\n",
       "      <td>2010</td>\n",
       "      <td>67</td>\n",
       "      <td>86</td>\n",
       "      <td>44</td>\n",
       "      <td>False</td>\n",
       "    </tr>\n",
       "  </tbody>\n",
       "</table>\n",
       "</div>"
      ],
      "text/plain": [
       "  years  drug abuse  liquor laws  vandalism drug>70\n",
       "a  2007          46           86         33   False\n",
       "a  2008          60           81         69   False\n",
       "b  2009          61           76         48   False\n",
       "b  2010          67           86         44   False"
      ]
     },
     "execution_count": 44,
     "metadata": {},
     "output_type": "execute_result"
    }
   ],
   "source": [
    "# We can also remove columns\n",
    "del frame2['other']\n",
    "frame2"
   ]
  },
  {
   "cell_type": "markdown",
   "metadata": {
    "slideshow": {
     "slide_type": "slide"
    }
   },
   "source": [
    "### Possible Inputs for a DataFrame\n",
    "We've seen the most popular way to create a DataFrame: using a dictionary.  Here are other possible inputs to pd.DataFrame():\n",
    "\n",
    " - dict of arrays, lists, tuples\n",
    " - dict of Series\n",
    " - dict of dicts\n",
    " - list of dicts or Series"
   ]
  },
  {
   "cell_type": "markdown",
   "metadata": {
    "slideshow": {
     "slide_type": "subslide"
    }
   },
   "source": [
    "### Possible Inputs for a DataFrame (continued)\n",
    "\n",
    " - Two dimensional ndarray\n",
    " - list of lists\n",
    " - NumPy array\n",
    " - another DataFrame"
   ]
  },
  {
   "cell_type": "markdown",
   "metadata": {
    "slideshow": {
     "slide_type": "slide"
    }
   },
   "source": [
    "### Index Objects\n",
    "Indexes are common to both pandas Series and DataFrames.  Just as keys to dictionaries are immutable, the indices for our pandas objects are also immutable."
   ]
  },
  {
   "cell_type": "code",
   "execution_count": 47,
   "metadata": {
    "slideshow": {
     "slide_type": "subslide"
    }
   },
   "outputs": [
    {
     "data": {
      "text/plain": [
       "pandas.indexes.base.Index"
      ]
     },
     "execution_count": 47,
     "metadata": {},
     "output_type": "execute_result"
    }
   ],
   "source": [
    "foo2 = pd.Series(range(3), index=['a','b','c'])\n",
    "index = foo2.index\n",
    "index\n",
    "type(index)\n",
    "\n",
    "# Modify the first value in the index from 'a' to 'd'\n"
   ]
  },
  {
   "cell_type": "markdown",
   "metadata": {
    "slideshow": {
     "slide_type": "subslide"
    }
   },
   "source": [
    "### More about Index Objects\n",
    "Index objects are immutable, but they do not have to be unique.  Use index values to your advantage.\n",
    "\n",
    "Also note that you can use set operations on index objects which could be beneficial: union, intersection, difference, isin... just to name a few."
   ]
  },
  {
   "cell_type": "markdown",
   "metadata": {
    "slideshow": {
     "slide_type": "slide"
    }
   },
   "source": [
    "\n",
    "### Essential Functionality\n",
    "Now that we've discussed a few ways to create DataFrames, let's look at some key functionality.\n",
    "Keep in mind that a DataFrame is a collection of Series objects."
   ]
  },
  {
   "cell_type": "code",
   "execution_count": 48,
   "metadata": {
    "slideshow": {
     "slide_type": "subslide"
    }
   },
   "outputs": [
    {
     "data": {
      "text/html": [
       "<div>\n",
       "<table border=\"1\" class=\"dataframe\">\n",
       "  <thead>\n",
       "    <tr style=\"text-align: right;\">\n",
       "      <th></th>\n",
       "      <th>Mar</th>\n",
       "      <th>Jan</th>\n",
       "      <th>Apr</th>\n",
       "      <th>Feb</th>\n",
       "    </tr>\n",
       "  </thead>\n",
       "  <tbody>\n",
       "    <tr>\n",
       "      <th>c</th>\n",
       "      <td>0</td>\n",
       "      <td>1</td>\n",
       "      <td>2</td>\n",
       "      <td>3</td>\n",
       "    </tr>\n",
       "    <tr>\n",
       "      <th>a</th>\n",
       "      <td>4</td>\n",
       "      <td>5</td>\n",
       "      <td>6</td>\n",
       "      <td>7</td>\n",
       "    </tr>\n",
       "    <tr>\n",
       "      <th>b</th>\n",
       "      <td>8</td>\n",
       "      <td>9</td>\n",
       "      <td>10</td>\n",
       "      <td>11</td>\n",
       "    </tr>\n",
       "    <tr>\n",
       "      <th>d</th>\n",
       "      <td>12</td>\n",
       "      <td>13</td>\n",
       "      <td>14</td>\n",
       "      <td>15</td>\n",
       "    </tr>\n",
       "  </tbody>\n",
       "</table>\n",
       "</div>"
      ],
      "text/plain": [
       "   Mar  Jan  Apr  Feb\n",
       "c    0    1    2    3\n",
       "a    4    5    6    7\n",
       "b    8    9   10   11\n",
       "d   12   13   14   15"
      ]
     },
     "execution_count": 48,
     "metadata": {},
     "output_type": "execute_result"
    }
   ],
   "source": [
    "# Remember how to create a matrix using NumPy?\n",
    "# Let's put that into a pandas Series object\n",
    "this = pd.DataFrame(np.arange(16).reshape((4,4)), \n",
    "                    index=['c','a','b','d'],\n",
    "                   columns = ['Mar','Jan','Apr','Feb'])\n",
    "this"
   ]
  },
  {
   "cell_type": "code",
   "execution_count": 55,
   "metadata": {
    "slideshow": {
     "slide_type": "subslide"
    }
   },
   "outputs": [
    {
     "data": {
      "text/html": [
       "<div>\n",
       "<table border=\"1\" class=\"dataframe\">\n",
       "  <thead>\n",
       "    <tr style=\"text-align: right;\">\n",
       "      <th></th>\n",
       "      <th>Mar</th>\n",
       "      <th>Jan</th>\n",
       "      <th>Apr</th>\n",
       "      <th>Feb</th>\n",
       "    </tr>\n",
       "  </thead>\n",
       "  <tbody>\n",
       "    <tr>\n",
       "      <th>a</th>\n",
       "      <td>4</td>\n",
       "      <td>5</td>\n",
       "      <td>6</td>\n",
       "      <td>7</td>\n",
       "    </tr>\n",
       "    <tr>\n",
       "      <th>b</th>\n",
       "      <td>8</td>\n",
       "      <td>9</td>\n",
       "      <td>10</td>\n",
       "      <td>11</td>\n",
       "    </tr>\n",
       "    <tr>\n",
       "      <th>c</th>\n",
       "      <td>0</td>\n",
       "      <td>1</td>\n",
       "      <td>2</td>\n",
       "      <td>3</td>\n",
       "    </tr>\n",
       "    <tr>\n",
       "      <th>d</th>\n",
       "      <td>12</td>\n",
       "      <td>13</td>\n",
       "      <td>14</td>\n",
       "      <td>15</td>\n",
       "    </tr>\n",
       "  </tbody>\n",
       "</table>\n",
       "</div>"
      ],
      "text/plain": [
       "   Mar  Jan  Apr  Feb\n",
       "a    4    5    6    7\n",
       "b    8    9   10   11\n",
       "c    0    1    2    3\n",
       "d   12   13   14   15"
      ]
     },
     "execution_count": 55,
     "metadata": {},
     "output_type": "execute_result"
    }
   ],
   "source": [
    "# Reindexing is an important method which creates a new object conforming to the new index:\n",
    "that = this.reindex(['a','b','c','d'])\n",
    "that"
   ]
  },
  {
   "cell_type": "code",
   "execution_count": 56,
   "metadata": {
    "slideshow": {
     "slide_type": "subslide"
    }
   },
   "outputs": [
    {
     "data": {
      "text/html": [
       "<div>\n",
       "<table border=\"1\" class=\"dataframe\">\n",
       "  <thead>\n",
       "    <tr style=\"text-align: right;\">\n",
       "      <th></th>\n",
       "      <th>Jan</th>\n",
       "      <th>Feb</th>\n",
       "      <th>Mar</th>\n",
       "      <th>Apr</th>\n",
       "    </tr>\n",
       "  </thead>\n",
       "  <tbody>\n",
       "    <tr>\n",
       "      <th>a</th>\n",
       "      <td>5</td>\n",
       "      <td>7</td>\n",
       "      <td>4</td>\n",
       "      <td>6</td>\n",
       "    </tr>\n",
       "    <tr>\n",
       "      <th>b</th>\n",
       "      <td>9</td>\n",
       "      <td>11</td>\n",
       "      <td>8</td>\n",
       "      <td>10</td>\n",
       "    </tr>\n",
       "    <tr>\n",
       "      <th>c</th>\n",
       "      <td>1</td>\n",
       "      <td>3</td>\n",
       "      <td>0</td>\n",
       "      <td>2</td>\n",
       "    </tr>\n",
       "    <tr>\n",
       "      <th>d</th>\n",
       "      <td>13</td>\n",
       "      <td>15</td>\n",
       "      <td>12</td>\n",
       "      <td>14</td>\n",
       "    </tr>\n",
       "  </tbody>\n",
       "</table>\n",
       "</div>"
      ],
      "text/plain": [
       "   Jan  Feb  Mar  Apr\n",
       "a    5    7    4    6\n",
       "b    9   11    8   10\n",
       "c    1    3    0    2\n",
       "d   13   15   12   14"
      ]
     },
     "execution_count": 56,
     "metadata": {},
     "output_type": "execute_result"
    }
   ],
   "source": [
    "# In the last example we reindexed by row, but we can also reindex by column:\n",
    "months = [] #enter the months from the previous slide so that they appear in the correct order\n",
    "those = that.reindex(columns=months) #use the months list as a guide for re-indexing by column\n",
    "those"
   ]
  },
  {
   "cell_type": "markdown",
   "metadata": {
    "slideshow": {
     "slide_type": "slide"
    }
   },
   "source": [
    "## Importing Your Data\n",
    "\n",
    "While we've spent quite a bit of time creating Series and DataFrame objects from existing Python data structures (lists, tuples, dictionaries, etc) in reality, we will probably be importing data from other sources."
   ]
  },
  {
   "cell_type": "markdown",
   "metadata": {
    "slideshow": {
     "slide_type": "subslide"
    }
   },
   "source": [
    "### Common commands\n",
    "\n",
    "| Command | Type of Data |\n",
    "| ----------- | ------------------------------------------ |\n",
    "| read_csv | load delimited data from file, URL, or file |\n",
    "| read_table | load delimited data from file, URL, or file |\n",
    "| read_excel | read tabular data from Excel XLS or XLSX file |\n",
    "| read_html | read all tables found in given HTML document |\n",
    "| read_json | read data from a JSON string representation |\n",
    " "
   ]
  },
  {
   "cell_type": "markdown",
   "metadata": {
    "slideshow": {
     "slide_type": "subslide"
    }
   },
   "source": [
    "### import csv example\n",
    "\n",
    "df = pd.read_csv(\"my.csv\", header=None)"
   ]
  },
  {
   "cell_type": "code",
   "execution_count": 2,
   "metadata": {
    "slideshow": {
     "slide_type": "subslide"
    }
   },
   "outputs": [
    {
     "data": {
      "text/html": [
       "<div>\n",
       "<table border=\"1\" class=\"dataframe\">\n",
       "  <thead>\n",
       "    <tr style=\"text-align: right;\">\n",
       "      <th></th>\n",
       "      <th>Year</th>\n",
       "      <th>JAN</th>\n",
       "      <th>FEB</th>\n",
       "      <th>MAR</th>\n",
       "      <th>APR</th>\n",
       "      <th>MAY</th>\n",
       "      <th>JUN</th>\n",
       "      <th>JUL</th>\n",
       "      <th>AUG</th>\n",
       "      <th>SEP</th>\n",
       "      <th>OCT</th>\n",
       "      <th>NOV</th>\n",
       "      <th>DEC</th>\n",
       "      <th>YEAR TOTAL</th>\n",
       "    </tr>\n",
       "  </thead>\n",
       "  <tbody>\n",
       "    <tr>\n",
       "      <th>0</th>\n",
       "      <td>1893</td>\n",
       "      <td>0.05</td>\n",
       "      <td>0.7</td>\n",
       "      <td>0.25</td>\n",
       "      <td>1.00</td>\n",
       "      <td>2</td>\n",
       "      <td>0.5</td>\n",
       "      <td>0.60</td>\n",
       "      <td>0.75</td>\n",
       "      <td>0.6</td>\n",
       "      <td>1.16</td>\n",
       "      <td>0.8</td>\n",
       "      <td>0.39</td>\n",
       "      <td>8.80**</td>\n",
       "    </tr>\n",
       "    <tr>\n",
       "      <th>1</th>\n",
       "      <td>1894</td>\n",
       "      <td>0.16</td>\n",
       "      <td>0.82</td>\n",
       "      <td>1.40</td>\n",
       "      <td>2.30</td>\n",
       "      <td>4.5</td>\n",
       "      <td>0.8</td>\n",
       "      <td>3.08</td>\n",
       "      <td>0.84</td>\n",
       "      <td>2.1</td>\n",
       "      <td>0.1</td>\n",
       "      <td>0.3</td>\n",
       "      <td>0.67</td>\n",
       "      <td>17.07</td>\n",
       "    </tr>\n",
       "    <tr>\n",
       "      <th>2</th>\n",
       "      <td>1895</td>\n",
       "      <td>0.3</td>\n",
       "      <td>0.66</td>\n",
       "      <td>1.98</td>\n",
       "      <td>1.89</td>\n",
       "      <td>4.28</td>\n",
       "      <td>3.77</td>\n",
       "      <td>4.31</td>\n",
       "      <td>0.82</td>\n",
       "      <td>0.5</td>\n",
       "      <td>1.27</td>\n",
       "      <td>0.44</td>\n",
       "      <td>0.13</td>\n",
       "      <td>20.35</td>\n",
       "    </tr>\n",
       "    <tr>\n",
       "      <th>3</th>\n",
       "      <td>1896</td>\n",
       "      <td>0.38</td>\n",
       "      <td>0.5</td>\n",
       "      <td>1.74</td>\n",
       "      <td>0.84</td>\n",
       "      <td>5.6</td>\n",
       "      <td>1.69</td>\n",
       "      <td>1.53</td>\n",
       "      <td>1.93</td>\n",
       "      <td>1.67</td>\n",
       "      <td>0.59</td>\n",
       "      <td>0</td>\n",
       "      <td>0.2</td>\n",
       "      <td>16.67</td>\n",
       "    </tr>\n",
       "    <tr>\n",
       "      <th>4</th>\n",
       "      <td>1897</td>\n",
       "      <td>0.23</td>\n",
       "      <td>0.8</td>\n",
       "      <td>2.40</td>\n",
       "      <td>0.94</td>\n",
       "      <td>2.3</td>\n",
       "      <td>3.71</td>\n",
       "      <td>3.09</td>\n",
       "      <td>2.96</td>\n",
       "      <td>0.86</td>\n",
       "      <td>1.66</td>\n",
       "      <td>0.47</td>\n",
       "      <td>0.7</td>\n",
       "      <td>20.12</td>\n",
       "    </tr>\n",
       "    <tr>\n",
       "      <th>5</th>\n",
       "      <td>1898</td>\n",
       "      <td>0.43</td>\n",
       "      <td>0.55</td>\n",
       "      <td>0.67</td>\n",
       "      <td>1.54</td>\n",
       "      <td>3.76</td>\n",
       "      <td>1.51</td>\n",
       "      <td>0.97</td>\n",
       "      <td>1.52</td>\n",
       "      <td>1.12</td>\n",
       "      <td>0.9</td>\n",
       "      <td>1.76</td>\n",
       "      <td>1.3</td>\n",
       "      <td>16.03</td>\n",
       "    </tr>\n",
       "    <tr>\n",
       "      <th>6</th>\n",
       "      <td>1899</td>\n",
       "      <td>0.87</td>\n",
       "      <td>0.98</td>\n",
       "      <td>2.79</td>\n",
       "      <td>1.23</td>\n",
       "      <td>0.55</td>\n",
       "      <td>0.58</td>\n",
       "      <td>2.18</td>\n",
       "      <td>1.81</td>\n",
       "      <td>0.15</td>\n",
       "      <td>1.94</td>\n",
       "      <td>Tr</td>\n",
       "      <td>0.96</td>\n",
       "      <td>14.04</td>\n",
       "    </tr>\n",
       "    <tr>\n",
       "      <th>7</th>\n",
       "      <td>1900</td>\n",
       "      <td>0.4</td>\n",
       "      <td>1.06</td>\n",
       "      <td>0.75</td>\n",
       "      <td>9.18</td>\n",
       "      <td>1.84</td>\n",
       "      <td>0.49</td>\n",
       "      <td>0.48</td>\n",
       "      <td>0.22</td>\n",
       "      <td>1.54</td>\n",
       "      <td>0.13</td>\n",
       "      <td>0.19</td>\n",
       "      <td>0.61</td>\n",
       "      <td>16.89</td>\n",
       "    </tr>\n",
       "    <tr>\n",
       "      <th>8</th>\n",
       "      <td>1901</td>\n",
       "      <td>0.53</td>\n",
       "      <td>0.3</td>\n",
       "      <td>1.74</td>\n",
       "      <td>3.51</td>\n",
       "      <td>1.62</td>\n",
       "      <td>1.76</td>\n",
       "      <td>0.46</td>\n",
       "      <td>1.69</td>\n",
       "      <td>0.16</td>\n",
       "      <td>0.65</td>\n",
       "      <td>Tr</td>\n",
       "      <td>1.43</td>\n",
       "      <td>13.85</td>\n",
       "    </tr>\n",
       "    <tr>\n",
       "      <th>9</th>\n",
       "      <td>1902</td>\n",
       "      <td>0.37</td>\n",
       "      <td>0.48</td>\n",
       "      <td>1.48</td>\n",
       "      <td>1.01</td>\n",
       "      <td>2.32</td>\n",
       "      <td>1.46</td>\n",
       "      <td>1.26</td>\n",
       "      <td>0.53</td>\n",
       "      <td>5.46</td>\n",
       "      <td>1.44</td>\n",
       "      <td>1.29</td>\n",
       "      <td>1.34</td>\n",
       "      <td>18.44</td>\n",
       "    </tr>\n",
       "    <tr>\n",
       "      <th>10</th>\n",
       "      <td>1903</td>\n",
       "      <td>0.08</td>\n",
       "      <td>1.52</td>\n",
       "      <td>1.45</td>\n",
       "      <td>2.31</td>\n",
       "      <td>2.02</td>\n",
       "      <td>1.87</td>\n",
       "      <td>0.95</td>\n",
       "      <td>1.46</td>\n",
       "      <td>1.31</td>\n",
       "      <td>3.43</td>\n",
       "      <td>0.15</td>\n",
       "      <td>0.16</td>\n",
       "      <td>16.71</td>\n",
       "    </tr>\n",
       "    <tr>\n",
       "      <th>11</th>\n",
       "      <td>1904</td>\n",
       "      <td>0.09</td>\n",
       "      <td>0.31</td>\n",
       "      <td>2.37</td>\n",
       "      <td>1.45</td>\n",
       "      <td>5.35</td>\n",
       "      <td>2.72</td>\n",
       "      <td>1.05</td>\n",
       "      <td>1</td>\n",
       "      <td>1.6</td>\n",
       "      <td>1.06</td>\n",
       "      <td>0.08</td>\n",
       "      <td>0.7</td>\n",
       "      <td>17.78</td>\n",
       "    </tr>\n",
       "    <tr>\n",
       "      <th>12</th>\n",
       "      <td>1905</td>\n",
       "      <td>0.81</td>\n",
       "      <td>0.7</td>\n",
       "      <td>1.85</td>\n",
       "      <td>6.65</td>\n",
       "      <td>4.78</td>\n",
       "      <td>0.55</td>\n",
       "      <td>1.86</td>\n",
       "      <td>0.22</td>\n",
       "      <td>1.64</td>\n",
       "      <td>2.54</td>\n",
       "      <td>0.23</td>\n",
       "      <td>Tr</td>\n",
       "      <td>21.83</td>\n",
       "    </tr>\n",
       "    <tr>\n",
       "      <th>13</th>\n",
       "      <td>1906</td>\n",
       "      <td>0.22</td>\n",
       "      <td>0.17</td>\n",
       "      <td>2.45</td>\n",
       "      <td>5.32</td>\n",
       "      <td>3.37</td>\n",
       "      <td>1.56</td>\n",
       "      <td>3.81</td>\n",
       "      <td>2.5</td>\n",
       "      <td>3.13</td>\n",
       "      <td>1.8</td>\n",
       "      <td>1.87</td>\n",
       "      <td>Tr</td>\n",
       "      <td>26.2</td>\n",
       "    </tr>\n",
       "    <tr>\n",
       "      <th>14</th>\n",
       "      <td>1907</td>\n",
       "      <td>0.22</td>\n",
       "      <td>0.56</td>\n",
       "      <td>0.47</td>\n",
       "      <td>3.59</td>\n",
       "      <td>5.29</td>\n",
       "      <td>0.59</td>\n",
       "      <td>2.79</td>\n",
       "      <td>0.44</td>\n",
       "      <td>1.06</td>\n",
       "      <td>0.58</td>\n",
       "      <td>0.41</td>\n",
       "      <td>0.27</td>\n",
       "      <td>16.27</td>\n",
       "    </tr>\n",
       "    <tr>\n",
       "      <th>15</th>\n",
       "      <td>1908</td>\n",
       "      <td>0.6</td>\n",
       "      <td>0.09</td>\n",
       "      <td>0.23</td>\n",
       "      <td>0.71</td>\n",
       "      <td>3.45</td>\n",
       "      <td>0.29</td>\n",
       "      <td>2.07</td>\n",
       "      <td>3.3</td>\n",
       "      <td>1.55</td>\n",
       "      <td>2.59</td>\n",
       "      <td>1.96</td>\n",
       "      <td>1.04</td>\n",
       "      <td>17.88</td>\n",
       "    </tr>\n",
       "    <tr>\n",
       "      <th>16</th>\n",
       "      <td>1909</td>\n",
       "      <td>0.11</td>\n",
       "      <td>1.21</td>\n",
       "      <td>3.96</td>\n",
       "      <td>3.60</td>\n",
       "      <td>1.85</td>\n",
       "      <td>1.67</td>\n",
       "      <td>3.18</td>\n",
       "      <td>2.42</td>\n",
       "      <td>4.51</td>\n",
       "      <td>0.55</td>\n",
       "      <td>1.56</td>\n",
       "      <td>1.72</td>\n",
       "      <td>26.34</td>\n",
       "    </tr>\n",
       "    <tr>\n",
       "      <th>17</th>\n",
       "      <td>1910</td>\n",
       "      <td>0.2</td>\n",
       "      <td>1.39</td>\n",
       "      <td>0.05</td>\n",
       "      <td>1.34</td>\n",
       "      <td>3.38</td>\n",
       "      <td>0.48</td>\n",
       "      <td>1.58</td>\n",
       "      <td>2.69</td>\n",
       "      <td>0.48</td>\n",
       "      <td>1.05</td>\n",
       "      <td>0.27</td>\n",
       "      <td>0.53</td>\n",
       "      <td>13.44</td>\n",
       "    </tr>\n",
       "    <tr>\n",
       "      <th>18</th>\n",
       "      <td>1911</td>\n",
       "      <td>0.73</td>\n",
       "      <td>1.56</td>\n",
       "      <td>0.64</td>\n",
       "      <td>2.68</td>\n",
       "      <td>0.9</td>\n",
       "      <td>1.3</td>\n",
       "      <td>1.69</td>\n",
       "      <td>1.24</td>\n",
       "      <td>0.26</td>\n",
       "      <td>1.59</td>\n",
       "      <td>0.72</td>\n",
       "      <td>0.2</td>\n",
       "      <td>13.51</td>\n",
       "    </tr>\n",
       "    <tr>\n",
       "      <th>19</th>\n",
       "      <td>1912</td>\n",
       "      <td>0.58</td>\n",
       "      <td>1.32</td>\n",
       "      <td>2.00</td>\n",
       "      <td>1.71</td>\n",
       "      <td>2.82</td>\n",
       "      <td>1.91</td>\n",
       "      <td>3.33</td>\n",
       "      <td>1.77</td>\n",
       "      <td>2.7</td>\n",
       "      <td>1.03</td>\n",
       "      <td>0.93</td>\n",
       "      <td>0.46</td>\n",
       "      <td>20.56</td>\n",
       "    </tr>\n",
       "    <tr>\n",
       "      <th>20</th>\n",
       "      <td>1913</td>\n",
       "      <td>0.49</td>\n",
       "      <td>1.28</td>\n",
       "      <td>0.71</td>\n",
       "      <td>1.58</td>\n",
       "      <td>1.85</td>\n",
       "      <td>0.48</td>\n",
       "      <td>4.04</td>\n",
       "      <td>0.54</td>\n",
       "      <td>2.62</td>\n",
       "      <td>2.24</td>\n",
       "      <td>0</td>\n",
       "      <td>4.2</td>\n",
       "      <td>20.03</td>\n",
       "    </tr>\n",
       "    <tr>\n",
       "      <th>21</th>\n",
       "      <td>1914</td>\n",
       "      <td>0</td>\n",
       "      <td>0.08</td>\n",
       "      <td>1.77</td>\n",
       "      <td>3.38</td>\n",
       "      <td>3.57</td>\n",
       "      <td>1.7</td>\n",
       "      <td>2.32</td>\n",
       "      <td>1.97</td>\n",
       "      <td>0.25</td>\n",
       "      <td>2.69</td>\n",
       "      <td>0.31</td>\n",
       "      <td>0.29</td>\n",
       "      <td>18.33</td>\n",
       "    </tr>\n",
       "    <tr>\n",
       "      <th>22</th>\n",
       "      <td>1915</td>\n",
       "      <td>0.39</td>\n",
       "      <td>1.31</td>\n",
       "      <td>1.68</td>\n",
       "      <td>4.46</td>\n",
       "      <td>3.83</td>\n",
       "      <td>1.78</td>\n",
       "      <td>2.58</td>\n",
       "      <td>1.67</td>\n",
       "      <td>3.02</td>\n",
       "      <td>1.83</td>\n",
       "      <td>0.25</td>\n",
       "      <td>1.5</td>\n",
       "      <td>24.3</td>\n",
       "    </tr>\n",
       "    <tr>\n",
       "      <th>23</th>\n",
       "      <td>1916</td>\n",
       "      <td>0.69</td>\n",
       "      <td>0.02</td>\n",
       "      <td>1.02</td>\n",
       "      <td>2.36</td>\n",
       "      <td>3.77</td>\n",
       "      <td>0.53</td>\n",
       "      <td>1.26</td>\n",
       "      <td>1.9</td>\n",
       "      <td>1.32</td>\n",
       "      <td>4.6</td>\n",
       "      <td>1.32</td>\n",
       "      <td>0.86</td>\n",
       "      <td>19.65</td>\n",
       "    </tr>\n",
       "    <tr>\n",
       "      <th>24</th>\n",
       "      <td>1917</td>\n",
       "      <td>0.31</td>\n",
       "      <td>0.54</td>\n",
       "      <td>1.75</td>\n",
       "      <td>2.81</td>\n",
       "      <td>6.17</td>\n",
       "      <td>0.13</td>\n",
       "      <td>0.48</td>\n",
       "      <td>0.2</td>\n",
       "      <td>0.13</td>\n",
       "      <td>0.95</td>\n",
       "      <td>0.1</td>\n",
       "      <td>0.42</td>\n",
       "      <td>13.99</td>\n",
       "    </tr>\n",
       "    <tr>\n",
       "      <th>25</th>\n",
       "      <td>1918</td>\n",
       "      <td>0.68</td>\n",
       "      <td>1.18</td>\n",
       "      <td>0.72</td>\n",
       "      <td>2.98</td>\n",
       "      <td>2.03</td>\n",
       "      <td>1.28</td>\n",
       "      <td>2.54</td>\n",
       "      <td>0.57</td>\n",
       "      <td>3.62</td>\n",
       "      <td>1.1</td>\n",
       "      <td>0.78</td>\n",
       "      <td>1.36</td>\n",
       "      <td>18.84</td>\n",
       "    </tr>\n",
       "    <tr>\n",
       "      <th>26</th>\n",
       "      <td>1919</td>\n",
       "      <td>0</td>\n",
       "      <td>0.32</td>\n",
       "      <td>1.49</td>\n",
       "      <td>1.65</td>\n",
       "      <td>0.88</td>\n",
       "      <td>1.1</td>\n",
       "      <td>7.46</td>\n",
       "      <td>0.95</td>\n",
       "      <td>0.88</td>\n",
       "      <td>1.31</td>\n",
       "      <td>2.07</td>\n",
       "      <td>0.5</td>\n",
       "      <td>18.61</td>\n",
       "    </tr>\n",
       "    <tr>\n",
       "      <th>27</th>\n",
       "      <td>1920</td>\n",
       "      <td>1.22</td>\n",
       "      <td>1.39</td>\n",
       "      <td>0.58</td>\n",
       "      <td>4.07</td>\n",
       "      <td>1.61</td>\n",
       "      <td>1.87</td>\n",
       "      <td>0.68</td>\n",
       "      <td>2.55</td>\n",
       "      <td>0.73</td>\n",
       "      <td>2.43</td>\n",
       "      <td>0.72</td>\n",
       "      <td>0.85</td>\n",
       "      <td>18.7</td>\n",
       "    </tr>\n",
       "    <tr>\n",
       "      <th>28</th>\n",
       "      <td>1921</td>\n",
       "      <td>0.11</td>\n",
       "      <td>0.31</td>\n",
       "      <td>0.77</td>\n",
       "      <td>4.81</td>\n",
       "      <td>1.5</td>\n",
       "      <td>3.62</td>\n",
       "      <td>1.53</td>\n",
       "      <td>2</td>\n",
       "      <td>0.17</td>\n",
       "      <td>1.13</td>\n",
       "      <td>0.98</td>\n",
       "      <td>1.46</td>\n",
       "      <td>18.39</td>\n",
       "    </tr>\n",
       "    <tr>\n",
       "      <th>29</th>\n",
       "      <td>1922</td>\n",
       "      <td>0.63</td>\n",
       "      <td>0.59</td>\n",
       "      <td>0.81</td>\n",
       "      <td>3.32</td>\n",
       "      <td>1.02</td>\n",
       "      <td>0.62</td>\n",
       "      <td>1.04</td>\n",
       "      <td>1.5</td>\n",
       "      <td>Tr</td>\n",
       "      <td>1.13</td>\n",
       "      <td>2.58</td>\n",
       "      <td>0.56</td>\n",
       "      <td>13.8</td>\n",
       "    </tr>\n",
       "    <tr>\n",
       "      <th>...</th>\n",
       "      <td>...</td>\n",
       "      <td>...</td>\n",
       "      <td>...</td>\n",
       "      <td>...</td>\n",
       "      <td>...</td>\n",
       "      <td>...</td>\n",
       "      <td>...</td>\n",
       "      <td>...</td>\n",
       "      <td>...</td>\n",
       "      <td>...</td>\n",
       "      <td>...</td>\n",
       "      <td>...</td>\n",
       "      <td>...</td>\n",
       "      <td>...</td>\n",
       "    </tr>\n",
       "    <tr>\n",
       "      <th>95</th>\n",
       "      <td>1988</td>\n",
       "      <td>0.4</td>\n",
       "      <td>1.14</td>\n",
       "      <td>2.53</td>\n",
       "      <td>1.48</td>\n",
       "      <td>3.7</td>\n",
       "      <td>0.7</td>\n",
       "      <td>0.71</td>\n",
       "      <td>1.33</td>\n",
       "      <td>2.02</td>\n",
       "      <td>0.03</td>\n",
       "      <td>0.75</td>\n",
       "      <td>2.16</td>\n",
       "      <td>16.95</td>\n",
       "    </tr>\n",
       "    <tr>\n",
       "      <th>96</th>\n",
       "      <td>1989</td>\n",
       "      <td>1.19</td>\n",
       "      <td>1.27</td>\n",
       "      <td>0.97</td>\n",
       "      <td>1.95</td>\n",
       "      <td>2.68</td>\n",
       "      <td>2.93</td>\n",
       "      <td>1.43</td>\n",
       "      <td>1.63*</td>\n",
       "      <td>3.54*</td>\n",
       "      <td>1.40*</td>\n",
       "      <td>0.09*</td>\n",
       "      <td>1.54*</td>\n",
       "      <td>20.62</td>\n",
       "    </tr>\n",
       "    <tr>\n",
       "      <th>97</th>\n",
       "      <td>1990</td>\n",
       "      <td>1.04*</td>\n",
       "      <td>1.32*</td>\n",
       "      <td>4.55</td>\n",
       "      <td>2.16</td>\n",
       "      <td>1.73</td>\n",
       "      <td>0.39</td>\n",
       "      <td>4.23</td>\n",
       "      <td>1.13</td>\n",
       "      <td>1.84</td>\n",
       "      <td>0.96</td>\n",
       "      <td>1.6</td>\n",
       "      <td>0.75</td>\n",
       "      <td>21.7</td>\n",
       "    </tr>\n",
       "    <tr>\n",
       "      <th>98</th>\n",
       "      <td>1991</td>\n",
       "      <td>1.05</td>\n",
       "      <td>0.15</td>\n",
       "      <td>0.43</td>\n",
       "      <td>2.41</td>\n",
       "      <td>2.9</td>\n",
       "      <td>3.59</td>\n",
       "      <td>3.11</td>\n",
       "      <td>2.08</td>\n",
       "      <td>1.21</td>\n",
       "      <td>0.93</td>\n",
       "      <td>3.3</td>\n",
       "      <td>0.01</td>\n",
       "      <td>21.17</td>\n",
       "    </tr>\n",
       "    <tr>\n",
       "      <th>99</th>\n",
       "      <td>1992</td>\n",
       "      <td>0.67</td>\n",
       "      <td>Tr</td>\n",
       "      <td>5.17</td>\n",
       "      <td>0.46</td>\n",
       "      <td>1.7</td>\n",
       "      <td>0.96</td>\n",
       "      <td>1.13</td>\n",
       "      <td>3.08</td>\n",
       "      <td>0.02</td>\n",
       "      <td>0.79</td>\n",
       "      <td>2.56</td>\n",
       "      <td>0.84</td>\n",
       "      <td>17.38</td>\n",
       "    </tr>\n",
       "    <tr>\n",
       "      <th>100</th>\n",
       "      <td>1993</td>\n",
       "      <td>0.25</td>\n",
       "      <td>0.9</td>\n",
       "      <td>2.15</td>\n",
       "      <td>2.56</td>\n",
       "      <td>1.73</td>\n",
       "      <td>3.38</td>\n",
       "      <td>1.40</td>\n",
       "      <td>1.04</td>\n",
       "      <td>3.32</td>\n",
       "      <td>2.42</td>\n",
       "      <td>2.17</td>\n",
       "      <td>0.55</td>\n",
       "      <td>21.87</td>\n",
       "    </tr>\n",
       "    <tr>\n",
       "      <th>101</th>\n",
       "      <td>1994</td>\n",
       "      <td>0.86</td>\n",
       "      <td>1.37</td>\n",
       "      <td>1.61</td>\n",
       "      <td>3.46</td>\n",
       "      <td>1.35</td>\n",
       "      <td>0.93</td>\n",
       "      <td>0.35</td>\n",
       "      <td>2.56</td>\n",
       "      <td>0.54</td>\n",
       "      <td>1.02</td>\n",
       "      <td>2.25</td>\n",
       "      <td>0.49</td>\n",
       "      <td>16.79</td>\n",
       "    </tr>\n",
       "    <tr>\n",
       "      <th>102</th>\n",
       "      <td>1995</td>\n",
       "      <td>0.64</td>\n",
       "      <td>1.53</td>\n",
       "      <td>1.21</td>\n",
       "      <td>5.45</td>\n",
       "      <td>9.59</td>\n",
       "      <td>4.03</td>\n",
       "      <td>0.72</td>\n",
       "      <td>1.45</td>\n",
       "      <td>2.96</td>\n",
       "      <td>0.59</td>\n",
       "      <td>1.51</td>\n",
       "      <td>0.25</td>\n",
       "      <td>29.93</td>\n",
       "    </tr>\n",
       "    <tr>\n",
       "      <th>103</th>\n",
       "      <td>1996</td>\n",
       "      <td>1.89</td>\n",
       "      <td>0.29</td>\n",
       "      <td>2.16</td>\n",
       "      <td>1.49</td>\n",
       "      <td>4.63</td>\n",
       "      <td>2.77</td>\n",
       "      <td>1.96</td>\n",
       "      <td>0.63</td>\n",
       "      <td>3.48</td>\n",
       "      <td>0.28</td>\n",
       "      <td>1.43</td>\n",
       "      <td>0.37</td>\n",
       "      <td>21.38</td>\n",
       "    </tr>\n",
       "    <tr>\n",
       "      <th>104</th>\n",
       "      <td>1997</td>\n",
       "      <td>0.87</td>\n",
       "      <td>1.83</td>\n",
       "      <td>0.91</td>\n",
       "      <td>5.77</td>\n",
       "      <td>2.19</td>\n",
       "      <td>3.69</td>\n",
       "      <td>1.14</td>\n",
       "      <td>5.27</td>\n",
       "      <td>1.92</td>\n",
       "      <td>2.7</td>\n",
       "      <td>1.52</td>\n",
       "      <td>0.68</td>\n",
       "      <td>28.49</td>\n",
       "    </tr>\n",
       "    <tr>\n",
       "      <th>105</th>\n",
       "      <td>1998</td>\n",
       "      <td>1.07</td>\n",
       "      <td>0.23</td>\n",
       "      <td>3.41</td>\n",
       "      <td>4.56</td>\n",
       "      <td>1.82</td>\n",
       "      <td>1.85</td>\n",
       "      <td>4.02</td>\n",
       "      <td>0.97</td>\n",
       "      <td>0.66</td>\n",
       "      <td>1.12</td>\n",
       "      <td>1.53</td>\n",
       "      <td>1.05</td>\n",
       "      <td>22.29</td>\n",
       "    </tr>\n",
       "    <tr>\n",
       "      <th>106</th>\n",
       "      <td>1999</td>\n",
       "      <td>0.65</td>\n",
       "      <td>0.08</td>\n",
       "      <td>1.09</td>\n",
       "      <td>7.55</td>\n",
       "      <td>1.84</td>\n",
       "      <td>0.82</td>\n",
       "      <td>2.54</td>\n",
       "      <td>5.54</td>\n",
       "      <td>2.62</td>\n",
       "      <td>1.33</td>\n",
       "      <td>0.81</td>\n",
       "      <td>1.01</td>\n",
       "      <td>25.88</td>\n",
       "    </tr>\n",
       "    <tr>\n",
       "      <th>107</th>\n",
       "      <td>2000</td>\n",
       "      <td>0.29</td>\n",
       "      <td>0.55</td>\n",
       "      <td>2.56</td>\n",
       "      <td>1.50</td>\n",
       "      <td>1.6</td>\n",
       "      <td>1.53</td>\n",
       "      <td>2.09</td>\n",
       "      <td>0.72</td>\n",
       "      <td>2.51</td>\n",
       "      <td>1.28</td>\n",
       "      <td>0.89</td>\n",
       "      <td>0.44</td>\n",
       "      <td>15.96</td>\n",
       "    </tr>\n",
       "    <tr>\n",
       "      <th>108</th>\n",
       "      <td>2001</td>\n",
       "      <td>0.73</td>\n",
       "      <td>0.86</td>\n",
       "      <td>2.01</td>\n",
       "      <td>3.02</td>\n",
       "      <td>3.62</td>\n",
       "      <td>1.09</td>\n",
       "      <td>1.76</td>\n",
       "      <td>1.64</td>\n",
       "      <td>1.77</td>\n",
       "      <td>0.4</td>\n",
       "      <td>1.02</td>\n",
       "      <td>0.36</td>\n",
       "      <td>18.28</td>\n",
       "    </tr>\n",
       "    <tr>\n",
       "      <th>109</th>\n",
       "      <td>2002</td>\n",
       "      <td>1.07</td>\n",
       "      <td>0.44</td>\n",
       "      <td>1.50</td>\n",
       "      <td>0.20</td>\n",
       "      <td>3.2</td>\n",
       "      <td>1.18</td>\n",
       "      <td>0.09</td>\n",
       "      <td>1.44</td>\n",
       "      <td>1.52</td>\n",
       "      <td>2.44</td>\n",
       "      <td>0.78</td>\n",
       "      <td>0.02</td>\n",
       "      <td>13.88</td>\n",
       "    </tr>\n",
       "    <tr>\n",
       "      <th>110</th>\n",
       "      <td>2003</td>\n",
       "      <td>0.09</td>\n",
       "      <td>1.52</td>\n",
       "      <td>5.44</td>\n",
       "      <td>2.99</td>\n",
       "      <td>2.62</td>\n",
       "      <td>2.69</td>\n",
       "      <td>0.71</td>\n",
       "      <td>3.52</td>\n",
       "      <td>0.35</td>\n",
       "      <td>0.45</td>\n",
       "      <td>0.8</td>\n",
       "      <td>0.84</td>\n",
       "      <td>22.02</td>\n",
       "    </tr>\n",
       "    <tr>\n",
       "      <th>111</th>\n",
       "      <td>2004</td>\n",
       "      <td>0.82</td>\n",
       "      <td>1.31</td>\n",
       "      <td>1.09</td>\n",
       "      <td>5.66</td>\n",
       "      <td>1.28</td>\n",
       "      <td>3.96</td>\n",
       "      <td>3.44</td>\n",
       "      <td>2.88</td>\n",
       "      <td>2.07</td>\n",
       "      <td>2.32</td>\n",
       "      <td>1.99</td>\n",
       "      <td>0.35</td>\n",
       "      <td>27.17</td>\n",
       "    </tr>\n",
       "    <tr>\n",
       "      <th>112</th>\n",
       "      <td>2005</td>\n",
       "      <td>1.4</td>\n",
       "      <td>0.31</td>\n",
       "      <td>1.22</td>\n",
       "      <td>3.86</td>\n",
       "      <td>1.91</td>\n",
       "      <td>2.68</td>\n",
       "      <td>0.42</td>\n",
       "      <td>1.63</td>\n",
       "      <td>0.52</td>\n",
       "      <td>2.8</td>\n",
       "      <td>0.34</td>\n",
       "      <td>0.43</td>\n",
       "      <td>17.52</td>\n",
       "    </tr>\n",
       "    <tr>\n",
       "      <th>113</th>\n",
       "      <td>2006</td>\n",
       "      <td>0.44</td>\n",
       "      <td>0.68</td>\n",
       "      <td>2.08</td>\n",
       "      <td>1.04</td>\n",
       "      <td>1.14</td>\n",
       "      <td>1.32</td>\n",
       "      <td>2.63</td>\n",
       "      <td>1.23</td>\n",
       "      <td>1.25</td>\n",
       "      <td>3.71</td>\n",
       "      <td>0.74</td>\n",
       "      <td>3.05</td>\n",
       "      <td>19.31</td>\n",
       "    </tr>\n",
       "    <tr>\n",
       "      <th>114</th>\n",
       "      <td>2007</td>\n",
       "      <td>1.68</td>\n",
       "      <td>0.86</td>\n",
       "      <td>1.69</td>\n",
       "      <td>2.24</td>\n",
       "      <td>1.79</td>\n",
       "      <td>0.38</td>\n",
       "      <td>0.80</td>\n",
       "      <td>1.82</td>\n",
       "      <td>1.92</td>\n",
       "      <td>1.38</td>\n",
       "      <td>0.47</td>\n",
       "      <td>2.1</td>\n",
       "      <td>17.13</td>\n",
       "    </tr>\n",
       "    <tr>\n",
       "      <th>115</th>\n",
       "      <td>2008</td>\n",
       "      <td>0.46</td>\n",
       "      <td>0.63</td>\n",
       "      <td>1.47</td>\n",
       "      <td>1.13</td>\n",
       "      <td>4.21</td>\n",
       "      <td>1.58</td>\n",
       "      <td>0.09</td>\n",
       "      <td>2.97</td>\n",
       "      <td>1.84</td>\n",
       "      <td>1.18</td>\n",
       "      <td>0.13</td>\n",
       "      <td>1.33</td>\n",
       "      <td>17.02</td>\n",
       "    </tr>\n",
       "    <tr>\n",
       "      <th>116</th>\n",
       "      <td>2009</td>\n",
       "      <td>0.62</td>\n",
       "      <td>0.27</td>\n",
       "      <td>1.89</td>\n",
       "      <td>5.88</td>\n",
       "      <td>3.08</td>\n",
       "      <td>2.7</td>\n",
       "      <td>1.42</td>\n",
       "      <td>0.33</td>\n",
       "      <td>0.42</td>\n",
       "      <td>3.26</td>\n",
       "      <td>0.93</td>\n",
       "      <td>1.39</td>\n",
       "      <td>22.19</td>\n",
       "    </tr>\n",
       "    <tr>\n",
       "      <th>117</th>\n",
       "      <td>2010</td>\n",
       "      <td>0.28</td>\n",
       "      <td>1.37</td>\n",
       "      <td>3.30</td>\n",
       "      <td>3.63</td>\n",
       "      <td>2.71</td>\n",
       "      <td>3.36</td>\n",
       "      <td>2.31</td>\n",
       "      <td>1.07</td>\n",
       "      <td>0.25</td>\n",
       "      <td>0.95</td>\n",
       "      <td>0.61</td>\n",
       "      <td>0.48</td>\n",
       "      <td>20.32</td>\n",
       "    </tr>\n",
       "    <tr>\n",
       "      <th>118</th>\n",
       "      <td>2011</td>\n",
       "      <td>0.96</td>\n",
       "      <td>1.02</td>\n",
       "      <td>0.33</td>\n",
       "      <td>2.41</td>\n",
       "      <td>5.16</td>\n",
       "      <td>1.35</td>\n",
       "      <td>2.87</td>\n",
       "      <td>1.08</td>\n",
       "      <td>2.56</td>\n",
       "      <td>1.65</td>\n",
       "      <td>0.98</td>\n",
       "      <td>1.92</td>\n",
       "      <td>22.29</td>\n",
       "    </tr>\n",
       "    <tr>\n",
       "      <th>119</th>\n",
       "      <td>2012</td>\n",
       "      <td>0.38</td>\n",
       "      <td>1.94</td>\n",
       "      <td>0.01</td>\n",
       "      <td>1.31</td>\n",
       "      <td>1.78</td>\n",
       "      <td>0.38</td>\n",
       "      <td>4.99</td>\n",
       "      <td>0.36</td>\n",
       "      <td>2.27</td>\n",
       "      <td>1.44</td>\n",
       "      <td>0.28</td>\n",
       "      <td>0.51</td>\n",
       "      <td>15.65</td>\n",
       "    </tr>\n",
       "    <tr>\n",
       "      <th>120</th>\n",
       "      <td>2013</td>\n",
       "      <td>0.27</td>\n",
       "      <td>1.13</td>\n",
       "      <td>1.72</td>\n",
       "      <td>4.14</td>\n",
       "      <td>2.66</td>\n",
       "      <td>0.61</td>\n",
       "      <td>1.03</td>\n",
       "      <td>1.4</td>\n",
       "      <td>18.16</td>\n",
       "      <td>2.24</td>\n",
       "      <td>0.29</td>\n",
       "      <td>0.5</td>\n",
       "      <td>34.15</td>\n",
       "    </tr>\n",
       "    <tr>\n",
       "      <th>121</th>\n",
       "      <td>2014</td>\n",
       "      <td>1.67</td>\n",
       "      <td>0.68</td>\n",
       "      <td>1.62</td>\n",
       "      <td>1.87</td>\n",
       "      <td>4.43</td>\n",
       "      <td>0.84</td>\n",
       "      <td>4.57</td>\n",
       "      <td>1.6</td>\n",
       "      <td>2.88</td>\n",
       "      <td>1.16</td>\n",
       "      <td>0.88</td>\n",
       "      <td>1.37</td>\n",
       "      <td>23.57</td>\n",
       "    </tr>\n",
       "    <tr>\n",
       "      <th>122</th>\n",
       "      <td>2015</td>\n",
       "      <td>0.38</td>\n",
       "      <td>3.69</td>\n",
       "      <td>0.38</td>\n",
       "      <td>4.50</td>\n",
       "      <td>7.82</td>\n",
       "      <td>1.76</td>\n",
       "      <td>2.98</td>\n",
       "      <td>0.31</td>\n",
       "      <td>0.14</td>\n",
       "      <td>2.02</td>\n",
       "      <td>1.83</td>\n",
       "      <td>1.11</td>\n",
       "      <td>27.39</td>\n",
       "    </tr>\n",
       "    <tr>\n",
       "      <th>123</th>\n",
       "      <td>2016</td>\n",
       "      <td>0.37</td>\n",
       "      <td>1.44</td>\n",
       "      <td>3.84</td>\n",
       "      <td>3.34</td>\n",
       "      <td>2.01</td>\n",
       "      <td>2.37</td>\n",
       "      <td>0.61</td>\n",
       "      <td>1.06</td>\n",
       "      <td>0.45</td>\n",
       "      <td>0.38</td>\n",
       "      <td>0.47</td>\n",
       "      <td>0.91</td>\n",
       "      <td>17.25</td>\n",
       "    </tr>\n",
       "    <tr>\n",
       "      <th>124</th>\n",
       "      <td>2017</td>\n",
       "      <td>1.41</td>\n",
       "      <td>0.73</td>\n",
       "      <td>1.45</td>\n",
       "      <td>3.15</td>\n",
       "      <td>6.29</td>\n",
       "      <td>0.45</td>\n",
       "      <td>1.30</td>\n",
       "      <td>1.62</td>\n",
       "      <td>1.92</td>\n",
       "      <td>2.42</td>\n",
       "      <td>0.57</td>\n",
       "      <td>0.68</td>\n",
       "      <td>21.89</td>\n",
       "    </tr>\n",
       "  </tbody>\n",
       "</table>\n",
       "<p>125 rows × 14 columns</p>\n",
       "</div>"
      ],
      "text/plain": [
       "     Year    JAN    FEB   MAR   APR   MAY   JUN   JUL    AUG    SEP    OCT  \\\n",
       "0    1893   0.05    0.7  0.25  1.00     2   0.5  0.60   0.75    0.6   1.16   \n",
       "1    1894   0.16   0.82  1.40  2.30   4.5   0.8  3.08   0.84    2.1    0.1   \n",
       "2    1895    0.3   0.66  1.98  1.89  4.28  3.77  4.31   0.82    0.5   1.27   \n",
       "3    1896   0.38    0.5  1.74  0.84   5.6  1.69  1.53   1.93   1.67   0.59   \n",
       "4    1897   0.23    0.8  2.40  0.94   2.3  3.71  3.09   2.96   0.86   1.66   \n",
       "5    1898   0.43   0.55  0.67  1.54  3.76  1.51  0.97   1.52   1.12    0.9   \n",
       "6    1899   0.87   0.98  2.79  1.23  0.55  0.58  2.18   1.81   0.15   1.94   \n",
       "7    1900    0.4   1.06  0.75  9.18  1.84  0.49  0.48   0.22   1.54   0.13   \n",
       "8    1901   0.53    0.3  1.74  3.51  1.62  1.76  0.46   1.69   0.16   0.65   \n",
       "9    1902   0.37   0.48  1.48  1.01  2.32  1.46  1.26   0.53   5.46   1.44   \n",
       "10   1903   0.08   1.52  1.45  2.31  2.02  1.87  0.95   1.46   1.31   3.43   \n",
       "11   1904   0.09   0.31  2.37  1.45  5.35  2.72  1.05      1    1.6   1.06   \n",
       "12   1905   0.81    0.7  1.85  6.65  4.78  0.55  1.86   0.22   1.64   2.54   \n",
       "13   1906   0.22   0.17  2.45  5.32  3.37  1.56  3.81    2.5   3.13    1.8   \n",
       "14   1907   0.22   0.56  0.47  3.59  5.29  0.59  2.79   0.44   1.06   0.58   \n",
       "15   1908    0.6   0.09  0.23  0.71  3.45  0.29  2.07    3.3   1.55   2.59   \n",
       "16   1909   0.11   1.21  3.96  3.60  1.85  1.67  3.18   2.42   4.51   0.55   \n",
       "17   1910    0.2   1.39  0.05  1.34  3.38  0.48  1.58   2.69   0.48   1.05   \n",
       "18   1911   0.73   1.56  0.64  2.68   0.9   1.3  1.69   1.24   0.26   1.59   \n",
       "19   1912   0.58   1.32  2.00  1.71  2.82  1.91  3.33   1.77    2.7   1.03   \n",
       "20   1913   0.49   1.28  0.71  1.58  1.85  0.48  4.04   0.54   2.62   2.24   \n",
       "21   1914      0   0.08  1.77  3.38  3.57   1.7  2.32   1.97   0.25   2.69   \n",
       "22   1915   0.39   1.31  1.68  4.46  3.83  1.78  2.58   1.67   3.02   1.83   \n",
       "23   1916   0.69   0.02  1.02  2.36  3.77  0.53  1.26    1.9   1.32    4.6   \n",
       "24   1917   0.31   0.54  1.75  2.81  6.17  0.13  0.48    0.2   0.13   0.95   \n",
       "25   1918   0.68   1.18  0.72  2.98  2.03  1.28  2.54   0.57   3.62    1.1   \n",
       "26   1919      0   0.32  1.49  1.65  0.88   1.1  7.46   0.95   0.88   1.31   \n",
       "27   1920   1.22   1.39  0.58  4.07  1.61  1.87  0.68   2.55   0.73   2.43   \n",
       "28   1921   0.11   0.31  0.77  4.81   1.5  3.62  1.53      2   0.17   1.13   \n",
       "29   1922   0.63   0.59  0.81  3.32  1.02  0.62  1.04    1.5     Tr   1.13   \n",
       "..    ...    ...    ...   ...   ...   ...   ...   ...    ...    ...    ...   \n",
       "95   1988    0.4   1.14  2.53  1.48   3.7   0.7  0.71   1.33   2.02   0.03   \n",
       "96   1989   1.19   1.27  0.97  1.95  2.68  2.93  1.43  1.63*  3.54*  1.40*   \n",
       "97   1990  1.04*  1.32*  4.55  2.16  1.73  0.39  4.23   1.13   1.84   0.96   \n",
       "98   1991   1.05   0.15  0.43  2.41   2.9  3.59  3.11   2.08   1.21   0.93   \n",
       "99   1992   0.67     Tr  5.17  0.46   1.7  0.96  1.13   3.08   0.02   0.79   \n",
       "100  1993   0.25    0.9  2.15  2.56  1.73  3.38  1.40   1.04   3.32   2.42   \n",
       "101  1994   0.86   1.37  1.61  3.46  1.35  0.93  0.35   2.56   0.54   1.02   \n",
       "102  1995   0.64   1.53  1.21  5.45  9.59  4.03  0.72   1.45   2.96   0.59   \n",
       "103  1996   1.89   0.29  2.16  1.49  4.63  2.77  1.96   0.63   3.48   0.28   \n",
       "104  1997   0.87   1.83  0.91  5.77  2.19  3.69  1.14   5.27   1.92    2.7   \n",
       "105  1998   1.07   0.23  3.41  4.56  1.82  1.85  4.02   0.97   0.66   1.12   \n",
       "106  1999   0.65   0.08  1.09  7.55  1.84  0.82  2.54   5.54   2.62   1.33   \n",
       "107  2000   0.29   0.55  2.56  1.50   1.6  1.53  2.09   0.72   2.51   1.28   \n",
       "108  2001   0.73   0.86  2.01  3.02  3.62  1.09  1.76   1.64   1.77    0.4   \n",
       "109  2002   1.07   0.44  1.50  0.20   3.2  1.18  0.09   1.44   1.52   2.44   \n",
       "110  2003   0.09   1.52  5.44  2.99  2.62  2.69  0.71   3.52   0.35   0.45   \n",
       "111  2004   0.82   1.31  1.09  5.66  1.28  3.96  3.44   2.88   2.07   2.32   \n",
       "112  2005    1.4   0.31  1.22  3.86  1.91  2.68  0.42   1.63   0.52    2.8   \n",
       "113  2006   0.44   0.68  2.08  1.04  1.14  1.32  2.63   1.23   1.25   3.71   \n",
       "114  2007   1.68   0.86  1.69  2.24  1.79  0.38  0.80   1.82   1.92   1.38   \n",
       "115  2008   0.46   0.63  1.47  1.13  4.21  1.58  0.09   2.97   1.84   1.18   \n",
       "116  2009   0.62   0.27  1.89  5.88  3.08   2.7  1.42   0.33   0.42   3.26   \n",
       "117  2010   0.28   1.37  3.30  3.63  2.71  3.36  2.31   1.07   0.25   0.95   \n",
       "118  2011   0.96   1.02  0.33  2.41  5.16  1.35  2.87   1.08   2.56   1.65   \n",
       "119  2012   0.38   1.94  0.01  1.31  1.78  0.38  4.99   0.36   2.27   1.44   \n",
       "120  2013   0.27   1.13  1.72  4.14  2.66  0.61  1.03    1.4  18.16   2.24   \n",
       "121  2014   1.67   0.68  1.62  1.87  4.43  0.84  4.57    1.6   2.88   1.16   \n",
       "122  2015   0.38   3.69  0.38  4.50  7.82  1.76  2.98   0.31   0.14   2.02   \n",
       "123  2016   0.37   1.44  3.84  3.34  2.01  2.37  0.61   1.06   0.45   0.38   \n",
       "124  2017   1.41   0.73  1.45  3.15  6.29  0.45  1.30   1.62   1.92   2.42   \n",
       "\n",
       "       NOV    DEC YEAR TOTAL  \n",
       "0      0.8   0.39     8.80**  \n",
       "1      0.3   0.67      17.07  \n",
       "2     0.44   0.13      20.35  \n",
       "3        0    0.2      16.67  \n",
       "4     0.47    0.7      20.12  \n",
       "5     1.76    1.3      16.03  \n",
       "6       Tr   0.96      14.04  \n",
       "7     0.19   0.61      16.89  \n",
       "8       Tr   1.43      13.85  \n",
       "9     1.29   1.34      18.44  \n",
       "10    0.15   0.16      16.71  \n",
       "11    0.08    0.7      17.78  \n",
       "12    0.23     Tr      21.83  \n",
       "13    1.87     Tr       26.2  \n",
       "14    0.41   0.27      16.27  \n",
       "15    1.96   1.04      17.88  \n",
       "16    1.56   1.72      26.34  \n",
       "17    0.27   0.53      13.44  \n",
       "18    0.72    0.2      13.51  \n",
       "19    0.93   0.46      20.56  \n",
       "20       0    4.2      20.03  \n",
       "21    0.31   0.29      18.33  \n",
       "22    0.25    1.5       24.3  \n",
       "23    1.32   0.86      19.65  \n",
       "24     0.1   0.42      13.99  \n",
       "25    0.78   1.36      18.84  \n",
       "26    2.07    0.5      18.61  \n",
       "27    0.72   0.85       18.7  \n",
       "28    0.98   1.46      18.39  \n",
       "29    2.58   0.56       13.8  \n",
       "..     ...    ...        ...  \n",
       "95    0.75   2.16      16.95  \n",
       "96   0.09*  1.54*      20.62  \n",
       "97     1.6   0.75       21.7  \n",
       "98     3.3   0.01      21.17  \n",
       "99    2.56   0.84      17.38  \n",
       "100   2.17   0.55      21.87  \n",
       "101   2.25   0.49      16.79  \n",
       "102   1.51   0.25      29.93  \n",
       "103   1.43   0.37      21.38  \n",
       "104   1.52   0.68      28.49  \n",
       "105   1.53   1.05      22.29  \n",
       "106   0.81   1.01      25.88  \n",
       "107   0.89   0.44      15.96  \n",
       "108   1.02   0.36      18.28  \n",
       "109   0.78   0.02      13.88  \n",
       "110    0.8   0.84      22.02  \n",
       "111   1.99   0.35      27.17  \n",
       "112   0.34   0.43      17.52  \n",
       "113   0.74   3.05      19.31  \n",
       "114   0.47    2.1      17.13  \n",
       "115   0.13   1.33      17.02  \n",
       "116   0.93   1.39      22.19  \n",
       "117   0.61   0.48      20.32  \n",
       "118   0.98   1.92      22.29  \n",
       "119   0.28   0.51      15.65  \n",
       "120   0.29    0.5      34.15  \n",
       "121   0.88   1.37      23.57  \n",
       "122   1.83   1.11      27.39  \n",
       "123   0.47   0.91      17.25  \n",
       "124   0.57   0.68      21.89  \n",
       "\n",
       "[125 rows x 14 columns]"
      ]
     },
     "execution_count": 2,
     "metadata": {},
     "output_type": "execute_result"
    }
   ],
   "source": [
    "rain = pd.read_csv('data/precipitation_boulder.csv')\n",
    "rain"
   ]
  }
 ],
 "metadata": {
  "celltoolbar": "Slideshow",
  "kernelspec": {
   "display_name": "Python 3",
   "language": "python",
   "name": "python3"
  },
  "language_info": {
   "codemirror_mode": {
    "name": "ipython",
    "version": 3
   },
   "file_extension": ".py",
   "mimetype": "text/x-python",
   "name": "python",
   "nbconvert_exporter": "python",
   "pygments_lexer": "ipython3",
   "version": "3.6.3"
  }
 },
 "nbformat": 4,
 "nbformat_minor": 2
}
